{
 "cells": [
  {
   "cell_type": "markdown",
   "metadata": {},
   "source": [
    "# Разложение ошибки на смещение и разброс"
   ]
  },
  {
   "cell_type": "markdown",
   "metadata": {},
   "source": [
    "Сохраните ваше решение в формате Name_Surname.ipynb, например Ivan_Ivanov.ipynb"
   ]
  },
  {
   "cell_type": "markdown",
   "metadata": {},
   "source": [
    "Credits: [Евгений Соколов](https://github.com/esokolov)"
   ]
  },
  {
   "cell_type": "markdown",
   "metadata": {},
   "source": [
    "В этом задании вам предстоит воспользоваться возможностями bootstraping для оценки смещения и разброса алгоритмов машинного обучения. Делать мы это будем на данных boston:"
   ]
  },
  {
   "cell_type": "code",
   "execution_count": 1,
   "metadata": {},
   "outputs": [],
   "source": [
    "import numpy as np\n",
    "import pandas as pd\n",
    "from matplotlib import pyplot as plt\n",
    "%matplotlib inline"
   ]
  },
  {
   "cell_type": "code",
   "execution_count": 2,
   "metadata": {},
   "outputs": [],
   "source": [
    "from sklearn.datasets import load_boston"
   ]
  },
  {
   "cell_type": "code",
   "execution_count": 3,
   "metadata": {},
   "outputs": [],
   "source": [
    "boston = load_boston()"
   ]
  },
  {
   "cell_type": "code",
   "execution_count": 4,
   "metadata": {},
   "outputs": [],
   "source": [
    "X = boston[\"data\"]\n",
    "y = boston[\"target\"]"
   ]
  },
  {
   "cell_type": "code",
   "execution_count": 5,
   "metadata": {},
   "outputs": [
    {
     "data": {
      "text/plain": [
       "((506, 13), (506,))"
      ]
     },
     "execution_count": 5,
     "metadata": {},
     "output_type": "execute_result"
    }
   ],
   "source": [
    "X.shape, y.shape"
   ]
  },
  {
   "cell_type": "markdown",
   "metadata": {},
   "source": [
    "### Вычисление bias и variance с помощью бутстрапа\n",
    "\n",
    "На лекции мы вывели форулу разложения на смещение и разброс:\n",
    "если $y(x)=f(x)+\\varepsilon$, где $x$-фиксированный объект, $\\varepsilon$ - независимый от x и обучающей выборки $T = \\{(x_1, y_1), \\dots (x_\\ell, y_\\ell)\\}$ случайный шум с нулевым средним, то для прогнозирующего алгоритма $a_T$, обученного на выборке $T$ справедливо:\n",
    "$$\\mathbb{E}_{T,\\varepsilon}[(a_T(x)-y(x))^2]=\\mathbb{E}_T (a_T(x)-\\mathbb{E}_T a_T(x))^2+(f(x)-\\mathbb{E}_T a_T(x))^2+\\mathbb{E_{\\varepsilon}}\\varepsilon^2$$\n",
    "\n",
    "Взяв мат. ожидание по всевозможным объектам $(x,y)$, получим:\n",
    "\n",
    "$$\n",
    "L(a) = \n",
    "    \\mathbb{E}_{x, y}\\bigl[\\mathbb{E}_{T}\\bigl[ (y - a_T(x))^2 \\bigr]\\bigr] = \n",
    "$$\n",
    "$$\n",
    "    \\underbrace{\\mathbb{E}_{x}\\bigl[\\mathbb{E}_{T}\\bigl[(a_T(x) - \\mathbb{E}_{T}[a_T(x)] )^2\\bigr]\\bigr]}_{\\text{разброс}} + \n",
    "    \\underbrace{\\mathbb{E}_{x}\\bigl[(\\mathbb{E}_{T}[a_T(x)] - f(x) )^2\\bigr]}_{\\text{смещение}} +\n",
    "    \\underbrace{\\mathbb{E}_{x, y}\\bigl[\\varepsilon^2\\bigr]}_{\\text{шум}},\n",
    "$$\n",
    "* $a(X)$ --- алгоритм, обученный по выборке $X = \\{(x_1, y_1), \\dots (x_\\ell, y_\\ell)\\}$;\n",
    "* $a(X)(x)$ --- ответ алгоритма, обученного по выборке $X$, на объекте $x$;\n",
    "* $\\mathbb{E}_{T}$ --- мат. ожидание по всем возможным обучающим выборкам;\n",
    "* $\\mathbb{E}_{T}[a_T(x)]$ --- \"средний\" ответ алгоритма, обученного по всем возможным выборкам $X$, на объекте $x$.\n",
    "  \n",
    "  \n",
    "С помощью этой формулы мы можем анализировать свойства алгоритма обучения модели $a$, если зададим вероятностную модель порождения пар $p(x, y)$.\n",
    "\n",
    "В реальных задачах мы, конечно же, не знаем распределение на парах объект - правильный ответ. Однако у нас есть набор семплов из этого распределения (обучающую выборка), и мы можем использовать его, чтобы оценивать математические ожидания. Для оценки мат. ожиданий по выборкам мы будем пользоваться бутстрэпом - методом генерации \"новых\" выборок из одной с помощью выбора объектов с возвращением. Разберем несколько шагов на пути к оценке смещения и разброса.\n",
    "\n",
    "#### Приближенное вычисление интегралов\n",
    "На занятиях мы разбирали примеры аналитического вычисления смещения и разброса нескольких алгоритмов обучения. Для большинства моделей данных и алгоритмов обучения аналитически рассчитать математические ожидания в формулах не удастся. Однако мат. ожидания можно оценивать приближенно. Чтобы оценить математическое ожидание $\\mathbb{E}_{\\bar z} f(\\bar z)$ функции от многомерной случайной величины $\\bar z = (z_1, \\dots, z_d)$, $\\bar z \\sim p(\\bar z)$, можно сгенерировать выборку из распределения $p(\\bar z)$ и усреднить значение функции на элементах этой выборки:\n",
    "$$\\mathbb{E}_{\\bar z} f(z) = \\int f(\\bar z) p(\\bar z) d \\bar z \\approx \\frac 1 m \\sum_{i=1}^m f(\\bar z_i), \\, \\bar z_i \\sim p(\\bar z), i = 1, \\dots, m.$$\n",
    "\n",
    "Например, оценим $\\mathbb{E}_z z^2,$ $z \\sim \\mathcal{N}(\\mu=5, \\sigma=3)$ (из теории вероятностей мы знаем, что\n",
    "$\\mathbb{E}_z z^2 = \\sigma^2 + a^2 = 34$):"
   ]
  },
  {
   "cell_type": "code",
   "execution_count": 6,
   "metadata": {},
   "outputs": [
    {
     "data": {
      "text/plain": [
       "34.145158559481104"
      ]
     },
     "execution_count": 6,
     "metadata": {},
     "output_type": "execute_result"
    }
   ],
   "source": [
    "z = np.random.normal(loc=5, scale=3, size=1000)\n",
    "(z**2).mean()"
   ]
  },
  {
   "cell_type": "markdown",
   "metadata": {},
   "source": [
    "#### Оценивание $\\mathbb{E}_{x, y}$\n",
    "Оценить мат. ожидания по $x$ и по $x, y$, встречающиеся во всех трех компонентах разложения, несложно, потому что у нас есть выборка объектов из распределения данных $p(x, y)$:\n",
    "$$ \\mathbb{E}_{x} f(x) \\approx \\frac 1 N \\sum_{i=1}^N f(x_i), \\quad\n",
    "\\mathbb{E}_{x, y} f(x, y) \\approx \\frac 1 N \\sum_{i=1}^N f(x_i, y_i),$$\n",
    "где $N$ - число объектов в выборке, $\\{(x_i, y_i)\\}_{i=1}^N$ - сама выборка. \n",
    "\n",
    "#### Оценивание $\\mathbb{E}_T$ с помощью бутстрапа\n",
    "Чтобы оценить мат. ожидание по $T$, нам понадобится выборка из выборок:\n",
    "$$\\mathbb{E}_T f(T) \\approx \\frac 1 s \\sum_{j=1}^s f(T_j),$$\n",
    "где $T_j$ - $j$-я выборка. Чтобы их получить, мы можем воспользоваться бутстрапом - методом генерации выборок на основе выбора объектов с возвращением. Чтобы составить одну выборку, будем $N$ раз выбирать индекс объекта $i \\sim \\text{Uniform}(1 \\dots N)$ и добавлять $i$-ю пару (объект, целевая переменная) в выборку. В результате в каждой выборке могут появиться повторяющиеся объекты, а какие-то объекты могут вовсе не войти в некоторые выборки.\n",
    "\n",
    "#### Итоговый алгоритм оценки смещения и разброса алгоритма $a$\n",
    "1. Сгенерировать $s$ выборок $T_j$ методом бутстрапа.\n",
    "1. На каждой выборке $T_j$ обучить алгоритм $a_j$.\n",
    "1. Для каждой выборки $T_j$ определить множество объектов $O_j$, не вошедших в нее (out-of-bag). Вычислить предсказания алгоритма $a_j$ на объектах $O_j$ (чтобы предсказания считались для тех объектов, которые НЕ использовались в обучении соответствующего алгоритма). \n",
    "\n",
    "Поскольку у нас есть только один ответ для каждого объекта, мы будем считать $y=f(x)$, т.е. $\\varepsilon\\equiv 0$, и $f(x)$ полагается равным имеющемуся правильному ответу для объекта $x$. \n",
    "\n",
    "Итоговые оценки:\n",
    "* Смещение: для одного объекта - квадрат разности среднего предсказания и правильного ответа. Среднее предсказание берется только по тем алгоритмам $a_j$, для которых этот объект входил в out-of-bag выборку $O_j$ (т.е. $a_j$ не использовал этот объект в обучении). Для получения общего смещения выполнить усреденение смещений по всем объектам.\n",
    "* Разброс: для одного объекта - выборочная дисперсия предсказаний алгоритмов $a_j$, для которых этот объект входил в out-of-bag выборку $O_j$. Для получения общего разброса выполнить усреденение разбросов по всем объектам.\n",
    "* Ошибка $L$: усреднить квадраты разностей предсказания и правильного ответа по всем выполненным предсказаниям для всех объектов.\n",
    "\n",
    "В результате должно получиться, что ошибка приблизительно равна сумме смещения и разброса!\n",
    "\n",
    "Алгоритм эмпирического расчета компонент вкратце описан по [ссылке](https://web.engr.oregonstate.edu/~tgd/classes/534/slides/part9.pdf) (слайды 19-21)."
   ]
  },
  {
   "cell_type": "markdown",
   "metadata": {},
   "source": [
    "### 1.Реализуйте описанный алгоритм. Обратите внимание, что если объект не вошел ни в одну из out-of-bag выборок, учитывать его в вычислении итоговых величин не нужно. Как обычно, разрешается использовать только один цикл - по выборкам (от 0 до num_runs-1)."
   ]
  },
  {
   "cell_type": "code",
   "execution_count": 7,
   "metadata": {},
   "outputs": [],
   "source": [
    "def bootstrap(N, dataset):\n",
    "    idx = np.arange(dataset.shape[0])\n",
    "    T = np.random.choice(idx, size=N)\n",
    "    O = np.array(list(set(idx) - set(T)))\n",
    "    return T, O"
   ]
  },
  {
   "cell_type": "code",
   "execution_count": 8,
   "metadata": {},
   "outputs": [],
   "source": [
    "def compute_biase_variance(regressor, X, Y, num_runs=1000):\n",
    "    \"\"\"\n",
    "    :param regressor: sklearn estimator with fit(...) and predict(...) method\n",
    "    :param X: numpy-array representing training set ob objects, shape [n_obj, n_features]\n",
    "    :param Y: numpy-array representing target for training objects, shape [n_obj]\n",
    "    :param num_runs: int, number of samples (s in the description of the algorithm)\n",
    "    \n",
    "    :returns: bias (float), variance (float), error (float) \n",
    "    each value is computed using bootstrap\n",
    "    \"\"\"\n",
    "    answers = []\n",
    "    error = 0\n",
    "    num_preds = 0\n",
    "    \n",
    "    for i in range(num_runs):\n",
    "        T, O = bootstrap(X.shape[0]//2, X)\n",
    "        regressor.fit(X[T], Y[T])\n",
    "        answer = np.zeros_like(Y, dtype=np.float)\n",
    "        answer[T] = np.nan\n",
    "        answer[O] = regressor.predict(X[O])\n",
    "        num_preds += len(O)\n",
    "        error += np.sum((answer[O] - Y[O])**2)\n",
    "        answers.append(copy(answer))\n",
    "    \n",
    "    answers = np.array(answers)\n",
    "    non_zero = np.count_nonzero(~np.isnan(answers), axis=0)\n",
    "    avg_pred = np.nansum(answers, axis=0) / non_zero\n",
    "    bias = (avg_pred - Y)**2\n",
    "    var = np.nanvar(answers, axis=0)\n",
    "    error /= num_preds\n",
    "    \n",
    "    return np.mean(bias), np.mean(var), error"
   ]
  },
  {
   "cell_type": "markdown",
   "metadata": {},
   "source": [
    "### 2.Оцените смещение, разброс и ошибку для трех алгоритмов с гиперпараметрами по умолчанию: линейная регрессия, решающее дерево, случайный лес."
   ]
  },
  {
   "cell_type": "code",
   "execution_count": 9,
   "metadata": {},
   "outputs": [],
   "source": [
    "from sklearn.linear_model import LinearRegression\n",
    "from sklearn.tree import DecisionTreeClassifier\n",
    "from sklearn.ensemble import RandomForestClassifier\n",
    "from sklearn import preprocessing\n",
    "from copy import copy"
   ]
  },
  {
   "cell_type": "code",
   "execution_count": 10,
   "metadata": {},
   "outputs": [
    {
     "name": "stdout",
     "output_type": "stream",
     "text": [
      "bias 23.731598131930074, variance: 1.999259394340232, error: 25.71226559970637\n",
      "bias + variance: 25.730857526270306, error: 25.71226559970637\n"
     ]
    }
   ],
   "source": [
    "clf = LinearRegression()\n",
    "bias, var, error = compute_biase_variance(clf, X, y)\n",
    "print(f'bias {bias}, variance: {var}, error: {error}')\n",
    "print(f'bias + variance: {bias + var}, error: {error}')"
   ]
  },
  {
   "cell_type": "code",
   "execution_count": 11,
   "metadata": {},
   "outputs": [],
   "source": [
    "lab_enc = preprocessing.LabelEncoder()\n",
    "y_tree = lab_enc.fit_transform(y)"
   ]
  },
  {
   "cell_type": "code",
   "execution_count": 12,
   "metadata": {},
   "outputs": [
    {
     "name": "stdout",
     "output_type": "stream",
     "text": [
      "bias 517.3338420070444, variance: 1050.2880526114534, error: 1569.2348131412418\n",
      "bias + variance: 1567.6218946184977, error: 1569.2348131412418\n"
     ]
    }
   ],
   "source": [
    "clf = DecisionTreeClassifier()\n",
    "bias, var, error = compute_biase_variance(clf, X, y_tree)\n",
    "print(f'bias {bias}, variance: {var}, error: {error}')\n",
    "print(f'bias + variance: {bias + var}, error: {error}')"
   ]
  },
  {
   "cell_type": "code",
   "execution_count": 13,
   "metadata": {},
   "outputs": [
    {
     "name": "stderr",
     "output_type": "stream",
     "text": [
      "/usr/lib/python3.8/site-packages/sklearn/ensemble/forest.py:244: FutureWarning: The default value of n_estimators will change from 10 in version 0.20 to 100 in 0.22.\n",
      "  warn(\"The default value of n_estimators will change from \"\n"
     ]
    },
    {
     "name": "stdout",
     "output_type": "stream",
     "text": [
      "bias 543.0857674096459, variance: 912.4010707516321, error: 1455.7581170841727\n",
      "bias + variance: 1455.486838161278, error: 1455.7581170841727\n"
     ]
    }
   ],
   "source": [
    "clf = RandomForestClassifier()\n",
    "bias, var, error = compute_biase_variance(clf, X, y_tree)\n",
    "print(f'bias {bias}, variance: {var}, error: {error}')\n",
    "print(f'bias + variance: {bias + var}, error: {error}')"
   ]
  },
  {
   "cell_type": "markdown",
   "metadata": {},
   "source": [
    "### 3.Проанализируйте полученный результат. Согласуются ли полученные результаты с теми, что мы обсуждали на семинарах (с комментарием)?"
   ]
  },
  {
   "cell_type": "markdown",
   "metadata": {},
   "source": [
    "__Your answer here:__\n",
    "Как и ожидалось, у линейной регрессии большое смещение, а у деревьев и случайного леса большой разброс. Так как у линейной регрессии жестко выбрана функция, а деревья сильно зависят от обучающей выборки."
   ]
  },
  {
   "cell_type": "markdown",
   "metadata": {},
   "source": [
    "### 4.Визуализация предсказаний базовых алгоритмов бэггинга\n",
    "\n",
    "На лекции приводилась аналогия с игрой в дартс - визуализация прогнозов алгоритмов с разным смещением и разным разбросом, пытающихся попасть в \"мишень\". В центре \"мишени\" - правильный ответ, а \"попадания\" - предсказания алгоритмов, обученных по разным выборкам. Построим похожее изображение на наших данных для трех алгоритмов. Наши \"мишени\" будут одномерными, потому что мы решаем задачу одномерной регрессии.\n",
    "\n",
    "Реализуйте фукнцию plot_predictions. Она должна выполнять следующие действия:\n",
    "1. Случайно выбрать num_test_objects пар объект-целевая переменная из выборки X, Y. Получится две выборки: маленькая X_test, Y_test (выбранные тестовые объекты) и X_train, Y_train (остальные объекты).\n",
    "1. Сгенерировать num_runs выборок методом бутстарапа из X_train, Y_train. На каждой выборке обучить алгоритм regressor и сделать предсказания для X_test.\n",
    "1. Нарисовать scatter-график. По оси абсцисс - объекты тестовой выборки (номера от 0 до num_test_objects-1), по оси ординат - предсказания. В итоге получится num_test_objects столбиков с точками. Для каждого тестового объекта надо отметить одним цветом все предсказания для него, а также черным цветом отметить правильный ответ.\n",
    "1. Подпишите оси и название графика (аргумент title)."
   ]
  },
  {
   "cell_type": "code",
   "execution_count": 14,
   "metadata": {},
   "outputs": [],
   "source": [
    "def plot_predictions(regressor, X, y, subplt, num_runs=100, num_test_objects=10, title=\"\"):\n",
    "    \"\"\"\n",
    "    plot graphics described above\n",
    "    \"\"\"\n",
    "    test, other = bootstrap(num_test_objects, X)\n",
    "    X_test = X[test]\n",
    "    Y_test = y[test]\n",
    "    X_train = X[other]\n",
    "    Y_train = y[other]\n",
    "    \n",
    "    for i in range(num_runs):\n",
    "        T, _ = bootstrap(len(X_train)//2, X_train)\n",
    "        regressor.fit(X_train[T], Y_train[T])\n",
    "        preds = regressor.predict(X_test)\n",
    "        \n",
    "        subplt.scatter(np.arange(num_test_objects), preds, color='red')\n",
    "        \n",
    "\n",
    "    subplt.scatter(np.arange(num_test_objects), Y_test, color='black')\n",
    "    subplt.set_title(title)\n",
    "    subplt.set(xlabel='test objects', ylabel='preds')"
   ]
  },
  {
   "cell_type": "markdown",
   "metadata": {},
   "source": [
    "### 5.Нарисуйте графики для линейной регрессии, решающего дерева и случайного леса. Нарисуйте три графика в строчку (это можно сделать с помощью plt.subplot) с одинаковой осью ординат (это важно для понимания масштаба разброса у разных алгоритмов):"
   ]
  },
  {
   "cell_type": "code",
   "execution_count": 15,
   "metadata": {},
   "outputs": [
    {
     "name": "stderr",
     "output_type": "stream",
     "text": [
      "/usr/lib/python3.8/site-packages/sklearn/ensemble/forest.py:244: FutureWarning: The default value of n_estimators will change from 10 in version 0.20 to 100 in 0.22.\n",
      "  warn(\"The default value of n_estimators will change from \"\n"
     ]
    },
    {
     "data": {
      "image/png": "[encoded data removed]",
      "text/plain": [
       "<Figure size 1080x360 with 3 Axes>"
      ]
     },
     "metadata": {
      "needs_background": "light"
     },
     "output_type": "display_data"
    }
   ],
   "source": [
    "clf = LinearRegression()\n",
    "clf_tree = DecisionTreeClassifier()\n",
    "clf_forest = RandomForestClassifier()\n",
    "\n",
    "fig, ax = plt.subplots(1, 3, figsize=(15, 5))\n",
    "plot_predictions(clf, X, y, ax[0], title=\"Linear regression\")\n",
    "plot_predictions(clf_tree, X, y_tree, ax[1], title=\"Tree classifier\")\n",
    "plot_predictions(clf_forest, X, y_tree, ax[2], title=\"Forest classifier\")"
   ]
  },
  {
   "cell_type": "markdown",
   "metadata": {},
   "source": [
    "### 6.Для каждого графика прокомментируйте, как он характеризует смещение и разброс соответствующего алгоритма. "
   ]
  },
  {
   "cell_type": "markdown",
   "metadata": {},
   "source": [
    "__Your answer here:__\n",
    "\n",
    "Графики подтверждают предыдущий пункт: у логистической регрессии большой bias (черные точки не попадают на красные интервалы), а у деревьев и леса большой variance (красные интервалы очень размазаны)."
   ]
  },
  {
   "cell_type": "markdown",
   "metadata": {},
   "source": [
    "# Изменение bias и variance при изменении гиперпараметров"
   ]
  },
  {
   "cell_type": "markdown",
   "metadata": {},
   "source": [
    "### 7.Постройте графики зависимости смещения и разброса от гиперпараметров решающего дерева max_depth (от 1 до 10) и max_features (от 1 до X.shape[1]):"
   ]
  },
  {
   "cell_type": "code",
   "execution_count": 16,
   "metadata": {},
   "outputs": [],
   "source": [
    "MAX_DEPTH = 10\n",
    "calced_bias = np.zeros((MAX_DEPTH, X.shape[1]))\n",
    "calced_var = np.zeros((MAX_DEPTH, X.shape[1]))\n",
    "\n",
    "for max_depth in range(1, MAX_DEPTH + 1, 1):\n",
    "    for max_feat in range(1, X.shape[1], 1):\n",
    "        clf_tree = DecisionTreeClassifier(max_depth=max_depth, \n",
    "                                          max_features=max_feat)\n",
    "        bias, var, _ = compute_biase_variance(clf_tree, X, y_tree)\n",
    "        calced_bias[max_depth - 1, max_feat] = bias\n",
    "        calced_var[max_depth - 1, max_feat] = var"
   ]
  },
  {
   "cell_type": "code",
   "execution_count": 17,
   "metadata": {},
   "outputs": [
    {
     "data": {
      "image/png": "[encoded data removed]",
      "text/plain": [
       "<Figure size 1080x1080 with 20 Axes>"
      ]
     },
     "metadata": {
      "needs_background": "light"
     },
     "output_type": "display_data"
    }
   ],
   "source": [
    "ROWS = 2\n",
    "COLUMNS = MAX_DEPTH // ROWS\n",
    "fig, axs = plt.subplots(ROWS * 2, COLUMNS, figsize=(15, 15))\n",
    "\n",
    "for ax in axs.flat:\n",
    "    ax.set(xlabel='max feat')\n",
    "for ax in axs.flat:\n",
    "    ax.label_outer()\n",
    "\n",
    "for max_depth in range(1, MAX_DEPTH + 1, 1):\n",
    "    for max_feat in range(1, X.shape[1], 1):\n",
    "        bias = calced_bias[(max_depth - 1, max_feat)]\n",
    "        var = calced_var[(max_depth - 1, max_feat)]\n",
    "        ind_bias = (max_depth - 1) // COLUMNS + 2, (max_depth - 1) % COLUMNS\n",
    "        ind_var = (max_depth - 1) // COLUMNS, (max_depth - 1) % COLUMNS\n",
    "        subplt = axs[ind_var]\n",
    "        subplt.scatter(max_feat, var, color='blue')\n",
    "        subplt.set_title(f'var, max depth {max_depth}')\n",
    "        \n",
    "        subplt = axs[ind_bias]\n",
    "        subplt.scatter(max_feat, bias, color='red')\n",
    "        subplt.set_title(f'bias, max depth {max_depth}')\n",
    "        #subplt.set(xlabel='max feat', ylabel='variance')"
   ]
  },
  {
   "cell_type": "markdown",
   "metadata": {},
   "source": [
    "### 8.Постройте графики зависимости смещения и разброса от n_estimators (по сетке 2**np.arange(1, 10)) для случайного леса:"
   ]
  },
  {
   "cell_type": "code",
   "execution_count": 18,
   "metadata": {},
   "outputs": [],
   "source": [
    "calced_bias_forest = np.zeros(len(np.arange(1, 10)))\n",
    "calced_var_forest = np.zeros(len(np.arange(1, 10)))\n",
    "\n",
    "\n",
    "for i, n_estimators in enumerate(2**np.arange(1, 10)):\n",
    "    clf = RandomForestClassifier(n_estimators=n_estimators)\n",
    "    bias, var, _ = compute_biase_variance(clf, X, y_tree)\n",
    "    calced_bias_forest[i] = bias\n",
    "    calced_var_forest[i] = var"
   ]
  },
  {
   "cell_type": "code",
   "execution_count": 19,
   "metadata": {},
   "outputs": [],
   "source": [
    "x_estimators = 2**np.arange(1, 10)"
   ]
  },
  {
   "cell_type": "code",
   "execution_count": 20,
   "metadata": {},
   "outputs": [
    {
     "data": {
      "image/png": "[encoded data removed]",
      "text/plain": [
       "<Figure size 432x288 with 1 Axes>"
      ]
     },
     "metadata": {
      "needs_background": "light"
     },
     "output_type": "display_data"
    }
   ],
   "source": [
    "plt.scatter(x_estimators, calced_var_forest, color='blue')\n",
    "plt.title(\"Variance forest\")\n",
    "plt.xlabel(\"n_estimators\")\n",
    "plt.ylabel(\"var\")\n",
    "plt.show()"
   ]
  },
  {
   "cell_type": "code",
   "execution_count": 21,
   "metadata": {},
   "outputs": [
    {
     "data": {
      "image/png": "[encoded data removed]",
      "text/plain": [
       "<Figure size 432x288 with 1 Axes>"
      ]
     },
     "metadata": {
      "needs_background": "light"
     },
     "output_type": "display_data"
    }
   ],
   "source": [
    "plt.scatter(x_estimators, calced_bias_forest, color='red')\n",
    "plt.title(\"Bias forest\")\n",
    "plt.xlabel(\"n_estimators\")\n",
    "plt.ylabel(\"bias\")\n",
    "plt.show()"
   ]
  },
  {
   "cell_type": "markdown",
   "metadata": {},
   "source": [
    "### 9.Прокомментируйте графики: почему они имеют такой вид.\n"
   ]
  },
  {
   "cell_type": "markdown",
   "metadata": {
    "collapsed": true
   },
   "source": [
    "При увеличении количества фичей дисперсия падает, а смещение растет, так как при увеличении количества фичей, модель больше подстраивается под данные.\n",
    "\n",
    "С увеличением максимальной глубины дисперсия и смещение падают, хотя смещение должно увеличиваться (так как увеличивается сложность модели), это может быть незаметно из-за того, что нужно взять глубину больше.\n",
    "\n",
    "С возрастанием деревьев в лесе смещение и дисперсия уменьшаются, потому что много независимых деревьев усредняются."
   ]
  },
  {
   "cell_type": "code",
   "execution_count": null,
   "metadata": {},
   "outputs": [],
   "source": []
  }
 ],
 "metadata": {
  "kernelspec": {
   "display_name": "Python 3",
   "language": "python",
   "name": "python3"
  },
  "language_info": {
   "codemirror_mode": {
    "name": "ipython",
    "version": 3
   },
   "file_extension": ".py",
   "mimetype": "text/x-python",
   "name": "python",
   "nbconvert_exporter": "python",
   "pygments_lexer": "ipython3",
   "version": "3.8.0"
  }
 },
 "nbformat": 4,
 "nbformat_minor": 2
}
