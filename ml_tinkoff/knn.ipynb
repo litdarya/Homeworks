{
 "cells": [
  {
   "cell_type": "markdown",
   "metadata": {},
   "source": [
    "# Laguage detection task"
   ]
  },
  {
   "cell_type": "code",
   "execution_count": 1,
   "metadata": {},
   "outputs": [
    {
     "name": "stdout",
     "output_type": "stream",
     "text": [
      "Populating the interactive namespace from numpy and matplotlib\n"
     ]
    }
   ],
   "source": [
    "%pylab inline"
   ]
  },
  {
   "cell_type": "markdown",
   "metadata": {},
   "source": [
    "#### In this task objects will be words either in English or in French, and you will have to implement K-NN classifier predicting the language of each word by its Levenstein (edit) distance to the words in the training set."
   ]
  },
  {
   "cell_type": "markdown",
   "metadata": {},
   "source": [
    "* Download python wheel Python-Levenstein from <http://www.lfd.uci.edu/~gohlke/pythonlibs/#python-levenshtein>\n",
    "* Install it with pip intall [wheel-name].\n",
    "* Levenstein distance can now be computed as Levenshtein.distance(source, target)"
   ]
  },
  {
   "cell_type": "code",
   "execution_count": 2,
   "metadata": {},
   "outputs": [],
   "source": [
    "import Levenshtein\n",
    "import sklearn as skl\n",
    "from sklearn.metrics import accuracy_score\n",
    "from sklearn.model_selection import GridSearchCV\n",
    "from sklearn.model_selection import train_test_split"
   ]
  },
  {
   "cell_type": "code",
   "execution_count": 3,
   "metadata": {},
   "outputs": [],
   "source": [
    "with open('Data/en.txt') as f:\n",
    "    english = f.readlines()\n",
    "    \n",
    "with open('Data/fr.txt') as f:\n",
    "    french = f.readlines()"
   ]
  },
  {
   "cell_type": "code",
   "execution_count": 4,
   "metadata": {},
   "outputs": [
    {
     "data": {
      "text/plain": [
       "(164144, 191448)"
      ]
     },
     "execution_count": 4,
     "metadata": {},
     "output_type": "execute_result"
    }
   ],
   "source": [
    "len(english), len(french)"
   ]
  },
  {
   "cell_type": "code",
   "execution_count": 5,
   "metadata": {},
   "outputs": [],
   "source": [
    "random.seed(0)"
   ]
  },
  {
   "cell_type": "code",
   "execution_count": 6,
   "metadata": {},
   "outputs": [
    {
     "data": {
      "text/plain": [
       "['twist\\n', 'author\\n', 'charles\\n', 'dickens\\n']"
      ]
     },
     "execution_count": 6,
     "metadata": {},
     "output_type": "execute_result"
    }
   ],
   "source": [
    "english[:4]"
   ]
  },
  {
   "cell_type": "code",
   "execution_count": 7,
   "metadata": {},
   "outputs": [
    {
     "data": {
      "text/plain": [
       "['des\\n', 'mati\\n', 'res\\n', 'chapitre\\n']"
      ]
     },
     "execution_count": 7,
     "metadata": {},
     "output_type": "execute_result"
    }
   ],
   "source": [
    "french[:4]"
   ]
  },
  {
   "cell_type": "code",
   "execution_count": 8,
   "metadata": {},
   "outputs": [],
   "source": [
    "random.seed(0)"
   ]
  },
  {
   "cell_type": "code",
   "execution_count": 9,
   "metadata": {},
   "outputs": [],
   "source": [
    "random.shuffle(english)"
   ]
  },
  {
   "cell_type": "code",
   "execution_count": 10,
   "metadata": {},
   "outputs": [],
   "source": [
    "random.shuffle(french)"
   ]
  },
  {
   "cell_type": "markdown",
   "metadata": {},
   "source": [
    "#### Forming train and test sets for your task."
   ]
  },
  {
   "cell_type": "code",
   "execution_count": 11,
   "metadata": {},
   "outputs": [],
   "source": [
    "N1 = 15000\n",
    "N2 = 500\n",
    "X_train = english[:N1] + french[:N1]\n",
    "Y_train = [1]*N1 + [2]*N1\n",
    "X_test = english[N1:N1+N2] + french[N1:N1+N2]\n",
    "Y_test = [1]*N2 + [2]*N2"
   ]
  },
  {
   "cell_type": "code",
   "execution_count": 12,
   "metadata": {},
   "outputs": [],
   "source": [
    "inds = arange(len(X_train)) \n",
    "inds = random.permutation(inds)\n",
    "X_train = [X_train[ind] for ind in inds]\n",
    "Y_train = [Y_train[ind] for ind in inds]\n",
    "\n",
    "inds = arange(len(X_test))\n",
    "inds = random.permutation(inds)\n",
    "X_test = [X_test[ind] for ind in inds]\n",
    "Y_test = [Y_test[ind] for ind in inds]"
   ]
  },
  {
   "cell_type": "markdown",
   "metadata": {},
   "source": [
    "#### Implement KNN class having constructor, fit(X,Y), predict_one(x) and predict(X) methods.\n",
    "\n",
    "* constructor should have parameter K\n",
    "* predict_one(x) predicts class for single object\n",
    "* predict(X) predicts class for each row of X\n",
    "\n",
    "You will need this class, because default implementation of K-NN \n",
    "requires objects to be numeric vectors and your objects are strings."
   ]
  },
  {
   "cell_type": "code",
   "execution_count": 13,
   "metadata": {},
   "outputs": [],
   "source": [
    "class KNN_strs:\n",
    "    def __init__(self, K=3):\n",
    "        self.k_neibours = K\n",
    "        self.X_train = None\n",
    "        self.Y_train = None\n",
    "    \n",
    "    def fit(self, X : list, Y : list) -> None:\n",
    "        self.X_train = np.array(X)\n",
    "        self.Y_train = np.array(Y)\n",
    "    \n",
    "    def _distance(self, x1 : str, x2 : str) -> float:\n",
    "        return Levenshtein.distance(x1, x2)/(len(x1) + len(x2))\n",
    "    \n",
    "    def predict_one(self, x : str) -> int:\n",
    "        distances = [self._distance(x, x_train) for x_train in self.X_train]\n",
    "        inds = np.argpartition(distances, self.k_neibours)\n",
    "        ans = self.Y_train[inds[:self.k_neibours]]\n",
    "\n",
    "        return np.bincount(ans).argmax()\n",
    "    \n",
    "    def predict(self, X : list) -> list:\n",
    "        return [self.predict_one(x) for x in X]\n",
    "    \n",
    "    def margin_one(self, x : str, y : int) -> int:\n",
    "        distances = [self._distance(x, x_train) for x_train in self.X_train if x != x_train]\n",
    "        inds = np.argpartition(distances, self.k_neibours)\n",
    "        ans = self.Y_train[inds[:self.k_neibours]]\n",
    "        \n",
    "        ans = np.bincount(ans)\n",
    "        if len(ans) > y:\n",
    "            correct = ans[y]\n",
    "        else:\n",
    "            correct = 0\n",
    "        others = self.k_neibours - correct\n",
    "        return correct - others\n",
    "    \n",
    "    def margin(self, X : list, Y : list) -> list:\n",
    "        return [self.margin_one(x, y) for x, y in zip(X, Y)]"
   ]
  },
  {
   "cell_type": "markdown",
   "metadata": {},
   "source": [
    "#### For K=[1,3,5,7,11,21] estimate accuracy of your KNN and plot the dependency between K and accuracy."
   ]
  },
  {
   "cell_type": "code",
   "execution_count": 14,
   "metadata": {},
   "outputs": [],
   "source": [
    "K = [1, 3, 5, 7, 11, 21]"
   ]
  },
  {
   "cell_type": "code",
   "execution_count": 15,
   "metadata": {},
   "outputs": [
    {
     "data": {
      "text/plain": [
       "(30000, 1000)"
      ]
     },
     "execution_count": 15,
     "metadata": {},
     "output_type": "execute_result"
    }
   ],
   "source": [
    "len(X_train), len(X_test)"
   ]
  },
  {
   "cell_type": "code",
   "execution_count": 16,
   "metadata": {
    "scrolled": true
   },
   "outputs": [
    {
     "name": "stdout",
     "output_type": "stream",
     "text": [
      "K = 1, score = 0.92\n",
      "K = 3, score = 0.923\n",
      "K = 5, score = 0.906\n",
      "K = 7, score = 0.907\n",
      "K = 11, score = 0.903\n",
      "K = 21, score = 0.886\n",
      "CPU times: user 2min 27s, sys: 15 ms, total: 2min 27s\n",
      "Wall time: 2min 28s\n"
     ]
    }
   ],
   "source": [
    "%%time\n",
    "scores = []\n",
    "\n",
    "for k in K:\n",
    "    knn = KNN_strs(K=k)\n",
    "    knn.fit(X=X_train, Y=Y_train)\n",
    "    preds = knn.predict(X_test)\n",
    "    score = accuracy_score(y_true=Y_test, y_pred=preds)\n",
    "    print(f'K = {k}, score = {score}')\n",
    "    scores.append(score)"
   ]
  },
  {
   "cell_type": "code",
   "execution_count": 17,
   "metadata": {
    "scrolled": false
   },
   "outputs": [
    {
     "data": {
      "image/png": "[encoded data removed]",
      "text/plain": [
       "<Figure size 432x288 with 1 Axes>"
      ]
     },
     "metadata": {
      "needs_background": "light"
     },
     "output_type": "display_data"
    }
   ],
   "source": [
    "plt.scatter(K, scores)\n",
    "plt.plot(K, scores)\n",
    "plt.show()"
   ]
  },
  {
   "cell_type": "markdown",
   "metadata": {},
   "source": [
    "#### What value of K is optimal? Explain"
   ]
  },
  {
   "cell_type": "markdown",
   "metadata": {},
   "source": [
    "Оптимально k = 3, так как accuracy максимально (у k=1 accuracy такая высокая, так как много повторяющихся значений в тестовой и обучающей выборке)."
   ]
  },
  {
   "cell_type": "code",
   "execution_count": null,
   "metadata": {},
   "outputs": [],
   "source": []
  }
 ],
 "metadata": {
  "kernelspec": {
   "display_name": "Python 3",
   "language": "python",
   "name": "python3"
  },
  "language_info": {
   "codemirror_mode": {
    "name": "ipython",
    "version": 3
   },
   "file_extension": ".py",
   "mimetype": "text/x-python",
   "name": "python",
   "nbconvert_exporter": "python",
   "pygments_lexer": "ipython3",
   "version": "3.7.4"
  }
 },
 "nbformat": 4,
 "nbformat_minor": 2
}
